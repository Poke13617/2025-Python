{
 "cells": [
  {
   "cell_type": "markdown",
   "id": "5cc4438b",
   "metadata": {},
   "source": [
    "# 2. Variables and Statements"
   ]
  },
  {
   "cell_type": "markdown",
   "id": "8ec6a667",
   "metadata": {},
   "source": [
    "## 2.1 Variables\n",
    "<b>Variables<b> - is a name that refers to a value"
   ]
  },
  {
   "cell_type": "code",
   "execution_count": 1,
   "id": "dbd5fdc9",
   "metadata": {},
   "outputs": [],
   "source": [
    "n = 17\n",
    "\n",
    "# n is the name of my variable\n",
    "# The variable name refers to a space in computer memory that holds a value\n",
    "\n"
   ]
  },
  {
   "cell_type": "markdown",
   "id": "ba5127ac",
   "metadata": {},
   "source": [
    "### Assignment Statement"
   ]
  },
  {
   "cell_type": "markdown",
   "id": "4076ac69",
   "metadata": {},
   "source": [
    "The assignment statement has 3 parts:\n",
    "* The name of the variable\n",
    "* the equal sign --> The assignment operator\n",
    "* an expression to the right of the assignment operator\n"
   ]
  },
  {
   "cell_type": "code",
   "execution_count": 2,
   "id": "0b8d9729",
   "metadata": {},
   "outputs": [],
   "source": [
    "pi = 3.141592653589793\n",
    "\n",
    "# Our expression will be a string - still an expression but a series of characters\n",
    "# contained in quotes\n",
    "message = 'And now for something completely different'\n",
    "\n"
   ]
  },
  {
   "cell_type": "code",
   "execution_count": 3,
   "id": "56fea8d7",
   "metadata": {},
   "outputs": [
    {
     "data": {
      "text/plain": [
       "'And now for something completely different'"
      ]
     },
     "execution_count": 3,
     "metadata": {},
     "output_type": "execute_result"
    }
   ],
   "source": [
    "message"
   ]
  },
  {
   "cell_type": "code",
   "execution_count": 4,
   "id": "97bb7fb5",
   "metadata": {},
   "outputs": [
    {
     "data": {
      "text/plain": [
       "17"
      ]
     },
     "execution_count": 4,
     "metadata": {},
     "output_type": "execute_result"
    }
   ],
   "source": [
    "n"
   ]
  },
  {
   "cell_type": "code",
   "execution_count": 5,
   "id": "f60d09e7",
   "metadata": {},
   "outputs": [
    {
     "data": {
      "text/plain": [
       "3.141592653589793"
      ]
     },
     "execution_count": 5,
     "metadata": {},
     "output_type": "execute_result"
    }
   ],
   "source": [
    "pi"
   ]
  },
  {
   "cell_type": "code",
   "execution_count": 6,
   "id": "164e0fe8",
   "metadata": {},
   "outputs": [
    {
     "data": {
      "text/plain": [
       "42"
      ]
     },
     "execution_count": 6,
     "metadata": {},
     "output_type": "execute_result"
    }
   ],
   "source": [
    "n + 25"
   ]
  },
  {
   "cell_type": "code",
   "execution_count": 7,
   "id": "55885a05",
   "metadata": {},
   "outputs": [
    {
     "data": {
      "text/plain": [
       "6.283185307179586"
      ]
     },
     "execution_count": 7,
     "metadata": {},
     "output_type": "execute_result"
    }
   ],
   "source": [
    "2 * pi"
   ]
  },
  {
   "cell_type": "code",
   "execution_count": null,
   "id": "8e863bbe",
   "metadata": {},
   "outputs": [],
   "source": []
  }
 ],
 "metadata": {
  "kernelspec": {
   "display_name": "Python 3",
   "language": "python",
   "name": "python3"
  },
  "language_info": {
   "codemirror_mode": {
    "name": "ipython",
    "version": 3
   },
   "file_extension": ".py",
   "mimetype": "text/x-python",
   "name": "python",
   "nbconvert_exporter": "python",
   "pygments_lexer": "ipython3",
   "version": "3.undefined.undefined"
  }
 },
 "nbformat": 4,
 "nbformat_minor": 5
}
