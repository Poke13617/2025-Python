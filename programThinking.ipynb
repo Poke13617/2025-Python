{
 "cells": [
  {
   "cell_type": "markdown",
   "id": "a642fecc",
   "metadata": {},
   "source": [
    "# Programmatic Thinking"
   ]
  },
  {
   "cell_type": "markdown",
   "id": "c18d7c0f",
   "metadata": {},
   "source": [
    "## 1.1 Arithmetic Operators\n",
    "\n",
    "<font color = \"hotpink\">Arithmetic Operators</font> - symbols that represent arithmetic operations"
   ]
  },
  {
   "cell_type": "code",
   "execution_count": 20,
   "id": "186607fa",
   "metadata": {},
   "outputs": [
    {
     "data": {
      "text/plain": [
       "42"
      ]
     },
     "execution_count": 20,
     "metadata": {},
     "output_type": "execute_result"
    }
   ],
   "source": [
    "30 + 12"
   ]
  },
  {
   "cell_type": "code",
   "execution_count": 21,
   "id": "1c63d694",
   "metadata": {},
   "outputs": [
    {
     "data": {
      "text/plain": [
       "42"
      ]
     },
     "execution_count": 21,
     "metadata": {},
     "output_type": "execute_result"
    }
   ],
   "source": [
    "43 - 1"
   ]
  },
  {
   "cell_type": "code",
   "execution_count": 22,
   "id": "40e1e1f1",
   "metadata": {},
   "outputs": [
    {
     "data": {
      "text/plain": [
       "42"
      ]
     },
     "execution_count": 22,
     "metadata": {},
     "output_type": "execute_result"
    }
   ],
   "source": [
    "6 * 7"
   ]
  },
  {
   "cell_type": "code",
   "execution_count": 23,
   "id": "02d68418",
   "metadata": {},
   "outputs": [
    {
     "data": {
      "text/plain": [
       "42.0"
      ]
     },
     "execution_count": 23,
     "metadata": {},
     "output_type": "execute_result"
    }
   ],
   "source": [
    "84/2"
   ]
  },
  {
   "cell_type": "markdown",
   "id": "9f946ca2",
   "metadata": {},
   "source": [
    "<font color = \"hotpink\">Integers</font> - represents numbers with no decimal or fraction\n",
    "<font color = \"hotpink\">Floats</font> - numbers that are decimals or a fraction"
   ]
  },
  {
   "cell_type": "code",
   "execution_count": 24,
   "id": "21882128",
   "metadata": {},
   "outputs": [
    {
     "data": {
      "text/plain": [
       "42"
      ]
     },
     "execution_count": 24,
     "metadata": {},
     "output_type": "execute_result"
    }
   ],
   "source": [
    "84 // 2 #floor division(only gives the numbers before the decimal)"
   ]
  },
  {
   "cell_type": "code",
   "execution_count": 25,
   "id": "07db6602",
   "metadata": {},
   "outputs": [
    {
     "data": {
      "text/plain": [
       "42"
      ]
     },
     "execution_count": 25,
     "metadata": {},
     "output_type": "execute_result"
    }
   ],
   "source": [
    "85 // 2"
   ]
  },
  {
   "cell_type": "code",
   "execution_count": 26,
   "id": "2fa408b8",
   "metadata": {},
   "outputs": [
    {
     "data": {
      "text/plain": [
       "49"
      ]
     },
     "execution_count": 26,
     "metadata": {},
     "output_type": "execute_result"
    }
   ],
   "source": [
    "#Exponents - when you raise to the power of another number\n",
    "\n",
    "7 ** 2"
   ]
  },
  {
   "cell_type": "code",
   "execution_count": 27,
   "id": "11030801",
   "metadata": {},
   "outputs": [
    {
     "data": {
      "text/plain": [
       "129.64181424216494"
      ]
     },
     "execution_count": 27,
     "metadata": {},
     "output_type": "execute_result"
    }
   ],
   "source": [
    "7 ** 2.5"
   ]
  },
  {
   "cell_type": "markdown",
   "id": "965f7136",
   "metadata": {},
   "source": [
    "Some languages use the caret ^ for exponents"
   ]
  },
  {
   "cell_type": "markdown",
   "id": "3cc52f02",
   "metadata": {},
   "source": [
    "## 1.2 Expressions\n",
    "\n",
    "<font color = \"hotpink\">Expression</font> - A collections operators and numbers"
   ]
  },
  {
   "cell_type": "code",
   "execution_count": 28,
   "id": "db4775d3",
   "metadata": {},
   "outputs": [
    {
     "data": {
      "text/plain": [
       "42"
      ]
     },
     "execution_count": 28,
     "metadata": {},
     "output_type": "execute_result"
    }
   ],
   "source": [
    "6 + 6 ** 2"
   ]
  },
  {
   "cell_type": "code",
   "execution_count": 29,
   "id": "0eea1930",
   "metadata": {},
   "outputs": [
    {
     "data": {
      "text/plain": [
       "42"
      ]
     },
     "execution_count": 29,
     "metadata": {},
     "output_type": "execute_result"
    }
   ],
   "source": [
    "12 + 5 * 6"
   ]
  },
  {
   "cell_type": "markdown",
   "id": "37adc9fa",
   "metadata": {},
   "source": [
    "## 1.5 Values and Types \n",
    "\n",
    "Multiple types of data:\n",
    "* Integers\n",
    "* Floats\n",
    "* Boolean\n",
    "* String\n",
    "* Null (Unidentified)\n",
    "\n",
    "<b>Type</b> - What kind of value is the data that we are using. Values can belong to a type of data."
   ]
  },
  {
   "cell_type": "code",
   "execution_count": 30,
   "id": "5b591f07",
   "metadata": {},
   "outputs": [
    {
     "data": {
      "text/plain": [
       "int"
      ]
     },
     "execution_count": 30,
     "metadata": {},
     "output_type": "execute_result"
    }
   ],
   "source": [
    "# Python type function\n",
    "\n",
    "type(2)"
   ]
  },
  {
   "cell_type": "code",
   "execution_count": 31,
   "id": "2606c998",
   "metadata": {},
   "outputs": [
    {
     "data": {
      "text/plain": [
       "float"
      ]
     },
     "execution_count": 31,
     "metadata": {},
     "output_type": "execute_result"
    }
   ],
   "source": [
    "type(2.4)"
   ]
  },
  {
   "cell_type": "code",
   "execution_count": 32,
   "id": "2fb6040e",
   "metadata": {},
   "outputs": [
    {
     "data": {
      "text/plain": [
       "bool"
      ]
     },
     "execution_count": 32,
     "metadata": {},
     "output_type": "execute_result"
    }
   ],
   "source": [
    "type(True)"
   ]
  },
  {
   "cell_type": "code",
   "execution_count": 33,
   "id": "4e250745",
   "metadata": {},
   "outputs": [
    {
     "data": {
      "text/plain": [
       "str"
      ]
     },
     "execution_count": 33,
     "metadata": {},
     "output_type": "execute_result"
    }
   ],
   "source": [
    "type(\"Elijah's Haircut\")"
   ]
  },
  {
   "cell_type": "code",
   "execution_count": 34,
   "id": "4200333b",
   "metadata": {},
   "outputs": [
    {
     "data": {
      "text/plain": [
       "42"
      ]
     },
     "execution_count": 34,
     "metadata": {},
     "output_type": "execute_result"
    }
   ],
   "source": [
    "int(42.9) "
   ]
  },
  {
   "cell_type": "code",
   "execution_count": 35,
   "id": "20e5f84c",
   "metadata": {},
   "outputs": [
    {
     "data": {
      "text/plain": [
       "42.0"
      ]
     },
     "execution_count": 35,
     "metadata": {},
     "output_type": "execute_result"
    }
   ],
   "source": [
    "float(42)"
   ]
  },
  {
   "cell_type": "code",
   "execution_count": 36,
   "id": "ba24e6a1",
   "metadata": {},
   "outputs": [
    {
     "data": {
      "text/plain": [
       "'42'"
      ]
     },
     "execution_count": 36,
     "metadata": {},
     "output_type": "execute_result"
    }
   ],
   "source": [
    "str(42)"
   ]
  },
  {
   "cell_type": "code",
   "execution_count": 37,
   "id": "c809ba17",
   "metadata": {},
   "outputs": [
    {
     "data": {
      "text/plain": [
       "'425'"
      ]
     },
     "execution_count": 37,
     "metadata": {},
     "output_type": "execute_result"
    }
   ],
   "source": [
    "'42' + '5'"
   ]
  },
  {
   "cell_type": "code",
   "execution_count": 38,
   "id": "320ec43f",
   "metadata": {},
   "outputs": [
    {
     "ename": "TypeError",
     "evalue": "unsupported operand type(s) for /: 'str' and 'int'",
     "output_type": "error",
     "traceback": [
      "\u001b[31m---------------------------------------------------------------------------\u001b[39m",
      "\u001b[31mTypeError\u001b[39m                                 Traceback (most recent call last)",
      "\u001b[36mCell\u001b[39m\u001b[36m \u001b[39m\u001b[32mIn[38]\u001b[39m\u001b[32m, line 1\u001b[39m\n\u001b[32m----> \u001b[39m\u001b[32m1\u001b[39m \u001b[33;43m'\u001b[39;49m\u001b[33;43m126\u001b[39;49m\u001b[33;43m'\u001b[39;49m\u001b[43m \u001b[49m\u001b[43m/\u001b[49m\u001b[32;43m3\u001b[39;49m\n",
      "\u001b[31mTypeError\u001b[39m: unsupported operand type(s) for /: 'str' and 'int'"
     ]
    }
   ],
   "source": [
    "'126' /3"
   ]
  },
  {
   "cell_type": "code",
   "execution_count": null,
   "id": "d2e0dd03",
   "metadata": {},
   "outputs": [],
   "source": [
    "int('126') / 3"
   ]
  },
  {
   "cell_type": "code",
   "execution_count": null,
   "id": "af53e763",
   "metadata": {},
   "outputs": [],
   "source": [
    "age = int(input(\"Please enter your age: \"))\n",
    "# All data collected from an input statement is ALWAYS a string\n",
    "\n",
    "birthYear = 2025 - age\n",
    "print(birthYear)"
   ]
  },
  {
   "cell_type": "code",
   "execution_count": 39,
   "id": "3bb3dc91",
   "metadata": {},
   "outputs": [
    {
     "data": {
      "text/plain": [
       "(1, 0, 0)"
      ]
     },
     "execution_count": 39,
     "metadata": {},
     "output_type": "execute_result"
    }
   ],
   "source": [
    "1,000,000"
   ]
  },
  {
   "cell_type": "code",
   "execution_count": 40,
   "id": "93535efa",
   "metadata": {},
   "outputs": [
    {
     "data": {
      "text/plain": [
       "1000000"
      ]
     },
     "execution_count": 40,
     "metadata": {},
     "output_type": "execute_result"
    }
   ],
   "source": [
    "1000000"
   ]
  },
  {
   "cell_type": "code",
   "execution_count": 41,
   "id": "882d8388",
   "metadata": {},
   "outputs": [
    {
     "ename": "SyntaxError",
     "evalue": "invalid syntax (1797962719.py, line 1)",
     "output_type": "error",
     "traceback": [
      "  \u001b[36mCell\u001b[39m\u001b[36m \u001b[39m\u001b[32mIn[41]\u001b[39m\u001b[32m, line 1\u001b[39m\n\u001b[31m    \u001b[39m\u001b[31m1.000.000\u001b[39m\n         ^\n\u001b[31mSyntaxError\u001b[39m\u001b[31m:\u001b[39m invalid syntax\n"
     ]
    }
   ],
   "source": [
    "1.000.000"
   ]
  },
  {
   "cell_type": "code",
   "execution_count": 42,
   "id": "48cf188d",
   "metadata": {},
   "outputs": [
    {
     "data": {
      "text/plain": [
       "1024"
      ]
     },
     "execution_count": 42,
     "metadata": {},
     "output_type": "execute_result"
    }
   ],
   "source": [
    "1024"
   ]
  },
  {
   "cell_type": "code",
   "execution_count": 43,
   "id": "33efe487",
   "metadata": {},
   "outputs": [
    {
     "data": {
      "text/plain": [
       "42"
      ]
     },
     "execution_count": 43,
     "metadata": {},
     "output_type": "execute_result"
    }
   ],
   "source": [
    "round(42, 5)\n",
    "#"
   ]
  },
  {
   "cell_type": "markdown",
   "id": "5af0761e",
   "metadata": {},
   "source": [
    "## 1.9.5 Exercise"
   ]
  },
  {
   "cell_type": "markdown",
   "id": "18257ac9",
   "metadata": {},
   "source": [
    "The following questions give you a chance to practice writing arithmetic expressions\n",
    "\n",
    "1. How many secodns are there in 42 minutes 42 seconds\n",
    "2. How many miles are there in 10 kilometers HINT: there are 1.61 kilometers in a mile\n",
    "3. If you run a 10km race in 42 minutes 42 seconds, what is your average pace in seconds per mile\n",
    "4. What is your average base in minutes and seconds per mile?\n",
    "5. What is your average speed in miles per hour"
   ]
  },
  {
   "cell_type": "code",
   "execution_count": null,
   "id": "f416aed4",
   "metadata": {},
   "outputs": [
    {
     "name": "stdout",
     "output_type": "stream",
     "text": [
      "2562\n"
     ]
    }
   ],
   "source": [
    "#1. How many seconds are there in 42 miinutes 42 seconds\n",
    "\n",
    "seconds = 42 * 60\n",
    "tot_secs = seconds + 42\n",
    "print( str(tot_secs) + \" in 42 minutes 42 seconds\")"
   ]
  },
  {
   "cell_type": "code",
   "execution_count": 46,
   "id": "f510730d",
   "metadata": {},
   "outputs": [
    {
     "name": "stdout",
     "output_type": "stream",
     "text": [
      "6.21\n"
     ]
    }
   ],
   "source": [
    "# 2. How many miles are there in 10 kilometers HINT: there are 1.61 kilometers in a mile\n",
    "\n",
    "miles = round(10 / 1.61, 2)\n",
    "\n",
    "print(miles)"
   ]
  },
  {
   "cell_type": "code",
   "execution_count": 47,
   "id": "a89b0db2",
   "metadata": {},
   "outputs": [
    {
     "name": "stdout",
     "output_type": "stream",
     "text": [
      "412.56 seconds per mile.\n"
     ]
    }
   ],
   "source": [
    "# 3. If you run a 10km race in 42 minutes 42 seconds, what is your average pace in seconds per mile\n",
    "\n",
    "secsPerMile = tot_secs / miles\n",
    "\n",
    "print(round(secsPerMile, 2), \"seconds per mile.\")"
   ]
  },
  {
   "cell_type": "code",
   "execution_count": null,
   "id": "1ee370a2",
   "metadata": {},
   "outputs": [
    {
     "name": "stdout",
     "output_type": "stream",
     "text": [
      "6.88 Minutes Per Mile\n"
     ]
    }
   ],
   "source": [
    "# 4. What is your average base in minutes and seconds per mile?\n",
    "\n",
    "minsPerMile = secsPerMile / 60\n",
    "print(round(minsPerMile, 2), \"is the pace per mile\")"
   ]
  },
  {
   "cell_type": "code",
   "execution_count": 80,
   "id": "7eb04a3e",
   "metadata": {},
   "outputs": [
    {
     "name": "stdout",
     "output_type": "stream",
     "text": [
      "8.73 is the MPH\n"
     ]
    }
   ],
   "source": [
    "# 5. What is your average speed in miles per hour\n",
    "#8.73\n",
    "mPsec = miles/tot_secs # Miles per second\n",
    "mPH = mPsec * 3600\n",
    "\n",
    "print(round(mPH, 2), \"is the MPH\")"
   ]
  },
  {
   "cell_type": "code",
   "execution_count": null,
   "id": "e42ed3d6",
   "metadata": {},
   "outputs": [],
   "source": []
  },
  {
   "cell_type": "code",
   "execution_count": null,
   "id": "d156f70a",
   "metadata": {},
   "outputs": [],
   "source": []
  }
 ],
 "metadata": {
  "kernelspec": {
   "display_name": "Python 3",
   "language": "python",
   "name": "python3"
  },
  "language_info": {
   "codemirror_mode": {
    "name": "ipython",
    "version": 3
   },
   "file_extension": ".py",
   "mimetype": "text/x-python",
   "name": "python",
   "nbconvert_exporter": "python",
   "pygments_lexer": "ipython3",
   "version": "3.13.3"
  }
 },
 "nbformat": 4,
 "nbformat_minor": 5
}
