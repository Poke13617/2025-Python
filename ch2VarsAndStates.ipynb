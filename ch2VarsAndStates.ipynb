{
 "cells": [
  {
   "cell_type": "markdown",
   "id": "5cc4438b",
   "metadata": {},
   "source": [
    "# 2. Variables and Statements"
   ]
  },
  {
   "cell_type": "markdown",
   "id": "8ec6a667",
   "metadata": {},
   "source": []
  }
 ],
 "metadata": {
  "kernelspec": {
   "display_name": "Python 3",
   "language": "python",
   "name": "python3"
  },
  "language_info": {
   "name": "python",
   "version": "3.13.3"
  }
 },
 "nbformat": 4,
 "nbformat_minor": 5
}
